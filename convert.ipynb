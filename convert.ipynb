{
 "cells": [
  {
   "metadata": {
    "ExecuteTime": {
     "end_time": "2024-11-03T19:03:21.398821Z",
     "start_time": "2024-11-03T19:03:19.457625Z"
    }
   },
   "cell_type": "code",
   "source": "!pip install langchain openai\n",
   "id": "6d6b7393ed69da1d",
   
    {
     "name": "stderr",
     "output_type": "stream",
     "text": [
      "\n",
      "[notice] A new release of pip is available: 23.2.1 -> 24.3.1\n",
      "[notice] To update, run: python.exe -m pip install --upgrade pip\n"
     ]
    }
   ],
   "execution_count": 12
  },
  {
   "metadata": {
    "ExecuteTime": {
     "end_time": "2024-11-03T19:03:26.757586Z",
     "start_time": "2024-11-03T19:03:26.754280Z"
    }
   },
   "cell_type": "code",
   "source": [
    "from langchain import OpenAI, LLMChain, PromptTemplate\n",
    "import openai\n",
    "import os\n"
   ],
   "id": "861f8235d1634564",
   "outputs": [],
   "execution_count": 13
  },
  {
   "metadata": {
    "ExecuteTime": {
     "end_time": "2024-11-03T19:03:38.731149Z",
     "start_time": "2024-11-03T19:03:38.727096Z"
    }
   },
   "cell_type": "code",
   "source": [
    "# Set your OpenAI API key\n",
    "os.environ['OPENAI_API_KEY'] = ''\n"
   ],
   "id": "cdd2599cf13ac3f8",
   "outputs": [],
   "execution_count": 14
  },
  {
   "metadata": {
    "ExecuteTime": {
     "end_time": "2024-11-03T19:03:49.230414Z",
     "start_time": "2024-11-03T19:03:49.224689Z"
    }
   },
   "cell_type": "code",
   "source": [
    "# Define prompt template to guide the model's output\n",
    "template = \"\"\"\n",
    "Convert the following English description of a feature into Cucumber Gherkin syntax.\n",
    "\n",
    "Description:\n",
    "{description}\n",
    "\n",
    "Gherkin Syntax:\n",
    "Feature: Describe the feature here\n",
    "\n",
    "  Scenario: Describe the scenario here\n",
    "    Given ...\n",
    "    When ...\n",
    "    Then ...\n",
    "\"\"\"\n",
    "prompt_template = PromptTemplate(input_variables=[\"description\"], template=template)\n"
   ],
   "id": "87202a9c7d4e0a3d",
   "outputs": [],
   "execution_count": 15
  },
  {
   "metadata": {
    "ExecuteTime": {
     "end_time": "2024-11-03T19:03:56.709565Z",
     "start_time": "2024-11-03T19:03:56.706036Z"
    }
   },
   "cell_type": "code",
   "source": [
    "# Initialize the OpenAI model with specific parameters\n",
    "llm = OpenAI(temperature=0.3)  # Set temperature lower for consistent output\n",
    "\n",
    "# Set up the chain with our prompt template\n",
    "chain = LLMChain(prompt=prompt_template, llm=llm)\n"
   ],
   "id": "d4919657ea0cb93d",
   "outputs": [],
   "execution_count": 16
  },
  {
   "metadata": {
    "ExecuteTime": {
     "end_time": "2024-11-03T19:04:02.970948Z",
     "start_time": "2024-11-03T19:04:02.967721Z"
    }
   },
   "cell_type": "code",
   "source": [
    "def nlp_to_gherkin(description):\n",
    "    try:\n",
    "        # Run the chain to generate the Gherkin syntax\n",
    "        response = chain.run(description=description)\n",
    "        return response\n",
    "    except Exception as e:\n",
    "        print(f\"An error occurred: {e}\")\n"
   ],
   "id": "14c8c45698f2cde1",
   "outputs": [],
   "execution_count": 17
  },
  {
   "metadata": {
    "ExecuteTime": {
     "end_time": "2024-11-03T19:04:11.979212Z",
     "start_time": "2024-11-03T19:04:11.973099Z"
    }
   },
   "cell_type": "code",
   "source": [
    "# Example description in English\n",
    "description = \"As a user, I want to log in to the application using my email and password so that I can access my account.\"\n",
    "\n",
    "# Convert the description to Gherkin syntax\n",
    "gherkin_output = nlp_to_gherkin(description)\n",
    "print(gherkin_output)\n"
   ],
   "id": "7a76eefc349adb92",
   "outputs": [
    {
     "name": "stdout",
     "output_type": "stream",
     "text": [
      "An error occurred: module 'openai' has no attribute 'error'\n",
      "None\n"
     ]
    }
   ],
   "execution_count": 18
  }
 ],
 "metadata": {
  "kernelspec": {
   "display_name": "Python 3",
   "language": "python",
   "name": "python3"
  },
  "language_info": {
   "codemirror_mode": {
    "name": "ipython",
    "version": 2
   },
   "file_extension": ".py",
   "mimetype": "text/x-python",
   "name": "python",
   "nbconvert_exporter": "python",
   "pygments_lexer": "ipython2",
   "version": "2.7.6"
  }
 },
 "nbformat": 4,
 "nbformat_minor": 5
}
